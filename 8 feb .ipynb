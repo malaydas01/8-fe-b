{
 "cells": [
  {
   "cell_type": "code",
   "execution_count": 1,
   "id": "662c21a2-4f97-4ba9-ba77-fe20c192068c",
   "metadata": {},
   "outputs": [
    {
     "ename": "SyntaxError",
     "evalue": "invalid syntax (460158806.py, line 1)",
     "output_type": "error",
     "traceback": [
      "\u001b[0;36m  Cell \u001b[0;32mIn[1], line 1\u001b[0;36m\u001b[0m\n\u001b[0;31m    Q1. What is Abstraction in OOps? Explain with an example.\u001b[0m\n\u001b[0m                                   ^\u001b[0m\n\u001b[0;31mSyntaxError\u001b[0m\u001b[0;31m:\u001b[0m invalid syntax\n"
     ]
    }
   ],
   "source": [
    "Q1. What is Abstraction in OOps? Explain with an example. "
   ]
  },
  {
   "cell_type": "code",
   "execution_count": null,
   "id": "093c9ae1-40db-4e7e-9603-0314214b31fe",
   "metadata": {},
   "outputs": [],
   "source": [
    "Abstraction in object-oriented programming (OOP) is a concept that focuses on hiding the complex implementation details of a system and exposing only the necessary functionalities or interfaces to the outside world. It allows developers to deal with high-level concepts without worrying about the low-level implementation details.\n",
    "\n",
    "An example of abstraction can be seen in a car. When you drive a car, you don't need to know the intricate details of how the engine works or how the transmission shifts gears. Instead, you interact with the car through its abstracted interface, which includes components like the steering wheel, pedals, and dashboard. You can accelerate, brake, and steer without needing to understand the inner workings of the vehicle."
   ]
  },
  {
   "cell_type": "code",
   "execution_count": null,
   "id": "be4df522-b769-43be-8b22-9ea28be92b1a",
   "metadata": {},
   "outputs": [],
   "source": [
    "Q2. Differentiate between Abstraction and Encapsulation. Explain with an example."
   ]
  },
  {
   "cell_type": "code",
   "execution_count": null,
   "id": "ab91c1fb-1d44-4cb8-87c2-c25af83861a3",
   "metadata": {},
   "outputs": [],
   "source": [
    "Abstraction:\n",
    "\n",
    "Abstraction focuses on hiding the complex implementation details and showing only the necessary features of an object.\n",
    "It allows you to represent essential features of an object without including the background details.\n",
    "Abstraction can be achieved through abstract classes, interfaces, and abstract methods.\n",
    "It helps in managing complexity and providing a simplified view of objects.\n",
    "Encapsulation:\n",
    "\n",
    "Encapsulation focuses on bundling the data (attributes) and methods (functions) that operate on the data into a single unit (class).\n",
    "It hides the internal state of an object from the outside world and only exposes the necessary interfaces to interact with it.\n",
    "Encapsulation provides data hiding and ensures that the data is accessed and modified through well-defined interfaces (methods).\n",
    "It helps in protecting the integrity of data and prevents unintended access and modification.\n",
    "\n",
    "Example:\n",
    "Consider a class representing a bank account:\n",
    "\n",
    "\n",
    "class BankAccount:\n",
    "    def __init__(self, account_number, balance):\n",
    "        self.account_number = account_number\n",
    "        self.balance = balance\n",
    "\n",
    "    def deposit(self, amount):\n",
    "        self.balance += amount\n",
    "\n",
    "    def withdraw(self, amount):\n",
    "        if amount <= self.balance:\n",
    "            self.balance -= amount\n",
    "        else:\n",
    "            print(\"Insufficient balance\")\n",
    "\n",
    "    def get_balance(self):\n",
    "        return self.balance"
   ]
  },
  {
   "cell_type": "code",
   "execution_count": null,
   "id": "30525e82-c7f7-44ea-92fd-268b7b1e4daf",
   "metadata": {},
   "outputs": [],
   "source": [
    "Q3. What is abc module in python? Why is it used?"
   ]
  },
  {
   "cell_type": "code",
   "execution_count": null,
   "id": "a4f29a24-3534-4b07-9cf9-b526ff4c1cab",
   "metadata": {},
   "outputs": [],
   "source": [
    "The abc module in Python stands for \"Abstract Base Classes.\" It provides infrastructure for defining abstract base classes in Python. Abstract base classes are classes that are designed to be subclassed but not instantiated themselves. They define a common interface or structure that subclasses must adhere to.\n",
    "\n",
    "The abc module is used for several purposes:\n",
    "\n",
    "Defining Abstract Base Classes (ABCs):\n",
    "You can use the abc module to define abstract base classes using the ABC class as a base. Abstract methods within these classes define methods that must be implemented by subclasses. Subclasses must override these abstract methods to provide concrete implementations.\n",
    "\n",
    "Enforcing Method Implementation:\n",
    "By defining abstract methods within abstract base classes, the abc module helps enforce that subclasses provide implementations for these methods. If a subclass fails to implement an abstract method, attempting to instantiate it will raise a TypeError.\n",
    "\n",
    "Polymorphism and Interface Contracts:\n",
    "Abstract base classes allow you to define common interfaces that multiple classes can adhere to. This promotes polymorphism, allowing different classes to be used interchangeably where the abstract base class is expected. It helps in creating consistent interfaces across multiple classes.\n",
    "\n",
    "Documentation and Design:\n",
    "Abstract base classes can serve as documentation for the expected behavior of subclasses. By defining a clear interface in the form of abstract methods, developers can understand the contract that subclasses must fulfill."
   ]
  },
  {
   "cell_type": "code",
   "execution_count": null,
   "id": "07672917-b452-4a57-b17a-47715e18fca7",
   "metadata": {},
   "outputs": [],
   "source": [
    "Q4. How can we achieve data abstraction?"
   ]
  },
  {
   "cell_type": "code",
   "execution_count": null,
   "id": "89f1df54-8e7c-47f7-a83f-31115569d83c",
   "metadata": {},
   "outputs": [],
   "source": [
    "Data abstraction can be achieved in programming by using various techniques, with the primary goal of hiding the complex implementation details of data structures and providing a simplified interface for interacting with them. Here are some common ways to achieve data abstraction:\n",
    "\n",
    "1. **Encapsulation**:\n",
    "   Encapsulation is a fundamental principle of object-oriented programming (OOP). It involves bundling the data (attributes) and methods (functions) that operate on the data into a single unit (class). By encapsulating data within classes, you can hide the internal state of an object and only expose the necessary interfaces for interacting with it. This promotes data abstraction by allowing users to interact with objects through well-defined methods without needing to know the internal implementation details.\n",
    "\n",
    "2. **Abstract Data Types (ADTs)**:\n",
    "   Abstract data types are a high-level mathematical model for certain data structures, defining a set of operations that can be performed on the data without specifying how these operations are implemented. Common examples of abstract data types include stacks, queues, lists, trees, and graphs. By defining ADTs, you can achieve data abstraction by separating the interface (operations) from the implementation. Users interact with the ADT through its interface without needing to know the underlying data structure or algorithms used to implement it.\n",
    "\n",
    "3. **Class Hierarchies and Inheritance**:\n",
    "   Class hierarchies and inheritance allow you to create a hierarchy of classes where subclasses inherit properties and methods from their parent classes. This enables you to define abstract classes with common attributes and behaviors shared by multiple subclasses. By defining abstract classes and methods, you can enforce a common interface across subclasses while allowing each subclass to provide its own implementation. This promotes data abstraction by providing a unified interface for interacting with objects of different types.\n",
    "\n",
    "4. **Interfaces and Abstract Base Classes (ABCs)**:\n",
    "   Interfaces and abstract base classes (ABCs) define a set of methods that must be implemented by concrete classes. By defining interfaces or ABCs, you can specify the expected behavior of classes without providing any implementation details. This promotes data abstraction by separating the interface from the implementation, allowing different classes to adhere to the same interface while providing their own implementations.\n",
    "\n",
    "5. **Access Modifiers**:\n",
    "   Access modifiers, such as public, private, and protected, control the visibility of data and methods within a class. By restricting access to certain members of a class, you can hide the internal details of the class and only expose the necessary interfaces to the outside world. This promotes data abstraction by encapsulating data and preventing direct access from external code.\n",
    "\n",
    "By applying these techniques, you can achieve data abstraction in programming, making your code more modular, maintainable, and easier to understand."
   ]
  },
  {
   "cell_type": "code",
   "execution_count": null,
   "id": "471e2529-cb7f-4b04-b399-8e769f5d5bfe",
   "metadata": {},
   "outputs": [],
   "source": [
    "Q5. Can we create an instance of an abstract class? Explain your answer."
   ]
  },
  {
   "cell_type": "code",
   "execution_count": null,
   "id": "9b74c96b-4d7c-4c44-a5ba-f8aca9964783",
   "metadata": {},
   "outputs": [],
   "source": []
  }
 ],
 "metadata": {
  "kernelspec": {
   "display_name": "Python 3 (ipykernel)",
   "language": "python",
   "name": "python3"
  },
  "language_info": {
   "codemirror_mode": {
    "name": "ipython",
    "version": 3
   },
   "file_extension": ".py",
   "mimetype": "text/x-python",
   "name": "python",
   "nbconvert_exporter": "python",
   "pygments_lexer": "ipython3",
   "version": "3.10.8"
  }
 },
 "nbformat": 4,
 "nbformat_minor": 5
}
